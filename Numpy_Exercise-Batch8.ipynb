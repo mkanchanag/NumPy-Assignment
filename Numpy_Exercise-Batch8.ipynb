{
 "cells": [
  {
   "cell_type": "markdown",
   "metadata": {},
   "source": [
    "# Numpy Exercise  <img src = \"numpy1.png\">\n",
    "###### Authored by T.K.Senthil Kumar"
   ]
  },
  {
   "cell_type": "markdown",
   "metadata": {},
   "source": [
    "#### 1. Create a numpy array with the number of elements equals your age. The value of array elements is a random number between 10 to your age "
   ]
  },
  {
   "cell_type": "code",
   "execution_count": 1,
   "metadata": {},
   "outputs": [],
   "source": [
    "import numpy as np"
   ]
  },
  {
   "cell_type": "code",
   "execution_count": 4,
   "metadata": {},
   "outputs": [
    {
     "name": "stdout",
     "output_type": "stream",
     "text": [
      "Enter your age:15\n",
      "[12 12 13 15 10 10 10 12 12 11 12 10 12 12 12]\n"
     ]
    }
   ],
   "source": [
    "age = int(input('Enter your age:'))\n",
    "age_array = np.random.randint(10,age+1,age)\n",
    "print(age_array)"
   ]
  },
  {
   "cell_type": "markdown",
   "metadata": {},
   "source": [
    "#### 2. Create a numpy array between 1 to 50 with the span(space) of 2 and print the length of the array"
   ]
  },
  {
   "cell_type": "code",
   "execution_count": 5,
   "metadata": {},
   "outputs": [
    {
     "name": "stdout",
     "output_type": "stream",
     "text": [
      "Length: 25\n"
     ]
    }
   ],
   "source": [
    "num_array = np.arange(1,51,2)\n",
    "#print('Numpy array:',num_array)\n",
    "print('Length:',len(num_array))"
   ]
  },
  {
   "cell_type": "markdown",
   "metadata": {},
   "source": [
    "#### 3. Create an equally spaced numpy array with 27 elements between 4 and 7 "
   ]
  },
  {
   "cell_type": "code",
   "execution_count": 6,
   "metadata": {},
   "outputs": [
    {
     "name": "stdout",
     "output_type": "stream",
     "text": [
      "[4.         4.11538462 4.23076923 4.34615385 4.46153846 4.57692308\n",
      " 4.69230769 4.80769231 4.92307692 5.03846154 5.15384615 5.26923077\n",
      " 5.38461538 5.5        5.61538462 5.73076923 5.84615385 5.96153846\n",
      " 6.07692308 6.19230769 6.30769231 6.42307692 6.53846154 6.65384615\n",
      " 6.76923077 6.88461538 7.        ]\n"
     ]
    }
   ],
   "source": [
    "spaced_array = np.linspace(4,7,num=27,endpoint=True)\n",
    "print(spaced_array)"
   ]
  },
  {
   "cell_type": "markdown",
   "metadata": {},
   "source": [
    "#### 4. Create a matrix of size (5 x 4) with random numbers and round off the each elements by only 2 fractional points."
   ]
  },
  {
   "cell_type": "code",
   "execution_count": 7,
   "metadata": {},
   "outputs": [
    {
     "name": "stdout",
     "output_type": "stream",
     "text": [
      "[[ 1.46  0.28  1.6   0.39]\n",
      " [-1.48 -0.16  0.88 -0.58]\n",
      " [-1.26  1.49 -1.61 -0.51]\n",
      " [ 0.09  0.62 -0.14  0.91]\n",
      " [-0.27  0.36 -1.3   0.12]]\n"
     ]
    }
   ],
   "source": [
    "matrix_1 = np.random.randn(5,4)\n",
    "rounded_matrix_1 = np.round(matrix_1,decimals=2)\n",
    "print(rounded_matrix_1)"
   ]
  },
  {
   "cell_type": "markdown",
   "metadata": {},
   "source": [
    "#### 5. Create a matrix of size (5x5) with random integers between 5 to 15"
   ]
  },
  {
   "cell_type": "code",
   "execution_count": 8,
   "metadata": {},
   "outputs": [
    {
     "name": "stdout",
     "output_type": "stream",
     "text": [
      "[[ 6 14 10 12  6]\n",
      " [12 14 13 15 14]\n",
      " [11  5 11 10 14]\n",
      " [12 10  7  6 11]\n",
      " [ 6  5  9 15  5]]\n"
     ]
    }
   ],
   "source": [
    "matrix_2 = np.random.randint(5,16,size=(5,5))\n",
    "print(matrix_2)"
   ]
  },
  {
   "cell_type": "markdown",
   "metadata": {},
   "source": [
    "#### 6. Create the one dimensional array of zeros of random length below 20 with the data type int32"
   ]
  },
  {
   "cell_type": "code",
   "execution_count": 9,
   "metadata": {},
   "outputs": [
    {
     "name": "stdout",
     "output_type": "stream",
     "text": [
      "[0 0 0 0 0 0 0 0 0 0]\n"
     ]
    }
   ],
   "source": [
    "one_dim_zeros = np.zeros(np.random.randint(0,20),dtype='int32')\n",
    "print(one_dim_zeros)\n",
    "#print(one_dim_zeros.dtype)\n",
    "#print(one_dim_zeros.shape)"
   ]
  },
  {
   "cell_type": "markdown",
   "metadata": {},
   "source": [
    "#### 7. Create a two dimensional array of ones of random row and column lengths with the data type of float32 "
   ]
  },
  {
   "cell_type": "code",
   "execution_count": 10,
   "metadata": {},
   "outputs": [
    {
     "name": "stdout",
     "output_type": "stream",
     "text": [
      "[[1. 1. 1. 1. 1. 1. 1. 1. 1. 1. 1. 1. 1. 1. 1. 1. 1. 1.]\n",
      " [1. 1. 1. 1. 1. 1. 1. 1. 1. 1. 1. 1. 1. 1. 1. 1. 1. 1.]\n",
      " [1. 1. 1. 1. 1. 1. 1. 1. 1. 1. 1. 1. 1. 1. 1. 1. 1. 1.]\n",
      " [1. 1. 1. 1. 1. 1. 1. 1. 1. 1. 1. 1. 1. 1. 1. 1. 1. 1.]\n",
      " [1. 1. 1. 1. 1. 1. 1. 1. 1. 1. 1. 1. 1. 1. 1. 1. 1. 1.]\n",
      " [1. 1. 1. 1. 1. 1. 1. 1. 1. 1. 1. 1. 1. 1. 1. 1. 1. 1.]\n",
      " [1. 1. 1. 1. 1. 1. 1. 1. 1. 1. 1. 1. 1. 1. 1. 1. 1. 1.]\n",
      " [1. 1. 1. 1. 1. 1. 1. 1. 1. 1. 1. 1. 1. 1. 1. 1. 1. 1.]\n",
      " [1. 1. 1. 1. 1. 1. 1. 1. 1. 1. 1. 1. 1. 1. 1. 1. 1. 1.]\n",
      " [1. 1. 1. 1. 1. 1. 1. 1. 1. 1. 1. 1. 1. 1. 1. 1. 1. 1.]\n",
      " [1. 1. 1. 1. 1. 1. 1. 1. 1. 1. 1. 1. 1. 1. 1. 1. 1. 1.]\n",
      " [1. 1. 1. 1. 1. 1. 1. 1. 1. 1. 1. 1. 1. 1. 1. 1. 1. 1.]\n",
      " [1. 1. 1. 1. 1. 1. 1. 1. 1. 1. 1. 1. 1. 1. 1. 1. 1. 1.]\n",
      " [1. 1. 1. 1. 1. 1. 1. 1. 1. 1. 1. 1. 1. 1. 1. 1. 1. 1.]]\n"
     ]
    }
   ],
   "source": [
    "rows = np.random.randint(1,20)\n",
    "cols = np.random.randint(1,20)\n",
    "two_dim_ones = np.ones((rows,cols),dtype='float32')\n",
    "print(two_dim_ones)\n",
    "#print(two_dim_ones.shape)\n",
    "#print(two_dim_ones.dtype)"
   ]
  },
  {
   "cell_type": "markdown",
   "metadata": {},
   "source": [
    "#### 8. Create a matrix exactly as same as shown below and print its shape, type and dtype\n",
    "<img src = \"np_mat1.png\">"
   ]
  },
  {
   "cell_type": "code",
   "execution_count": 11,
   "metadata": {},
   "outputs": [
    {
     "name": "stdout",
     "output_type": "stream",
     "text": [
      "[[ 9 25 50 34 45]\n",
      " [ 3 34 34 65  2]\n",
      " [ 5  7  3 76  3]\n",
      " [ 7  8  6 54  6]\n",
      " [23 12  8  5  8]]\n",
      "Shape:  (5, 5)\n",
      "Type:  <class 'numpy.ndarray'>\n",
      "Dtype:  int64\n"
     ]
    }
   ],
   "source": [
    "samp_matrix = np.array([[9,25,50,34,45],[3,34,34,65,2],[5,7,3,76,3],[7,8,6,54,6],[23,12,8,5,8]])\n",
    "print(samp_matrix)\n",
    "print('Shape: ',samp_matrix.shape)\n",
    "print('Type: ',type(samp_matrix))\n",
    "print('Dtype: ',samp_matrix.dtype)"
   ]
  },
  {
   "cell_type": "markdown",
   "metadata": {},
   "source": [
    "#### 9. Access the center pixel of the matrix defined in the question no 8 ( Don't enter the row and column index explicitely)"
   ]
  },
  {
   "cell_type": "code",
   "execution_count": 12,
   "metadata": {},
   "outputs": [
    {
     "name": "stdout",
     "output_type": "stream",
     "text": [
      "3\n"
     ]
    }
   ],
   "source": [
    "num_of_rows = samp_matrix.shape[0]\n",
    "num_of_cols = samp_matrix.shape[1]\n",
    "center_of_matrix = samp_matrix[num_of_rows//2,num_of_cols//2]\n",
    "print(center_of_matrix)"
   ]
  },
  {
   "cell_type": "markdown",
   "metadata": {},
   "source": [
    "#### 10. Print the all the elements of 3rd row of the matrix"
   ]
  },
  {
   "cell_type": "code",
   "execution_count": 13,
   "metadata": {},
   "outputs": [
    {
     "name": "stdout",
     "output_type": "stream",
     "text": [
      "[ 5  7  3 76  3]\n"
     ]
    }
   ],
   "source": [
    "print(samp_matrix[2])"
   ]
  },
  {
   "cell_type": "markdown",
   "metadata": {},
   "source": [
    "#### 11. Print the all the elements of 4th columns of the matrix"
   ]
  },
  {
   "cell_type": "code",
   "execution_count": 14,
   "metadata": {},
   "outputs": [
    {
     "name": "stdout",
     "output_type": "stream",
     "text": [
      "[34 65 76 54  5]\n"
     ]
    }
   ],
   "source": [
    "print(samp_matrix[:,3])"
   ]
  },
  {
   "cell_type": "markdown",
   "metadata": {},
   "source": [
    "#### 12. Print the 4 corner pixels of the matrix"
   ]
  },
  {
   "cell_type": "code",
   "execution_count": 15,
   "metadata": {},
   "outputs": [
    {
     "name": "stdout",
     "output_type": "stream",
     "text": [
      "Corners from 1st row:  9 45\n",
      "Corners from last row:  23 8\n"
     ]
    }
   ],
   "source": [
    "print('Corners from 1st row: ',samp_matrix[0,0],samp_matrix[0,4])\n",
    "print('Corners from last row: ',samp_matrix[4,0],samp_matrix[4,4])"
   ]
  },
  {
   "cell_type": "markdown",
   "metadata": {},
   "source": [
    "#### 13. Create three matrix m1,m2,m3 with the elements grouped in the figure below\n",
    "<img src = \"np_mat2.png\">"
   ]
  },
  {
   "cell_type": "code",
   "execution_count": 16,
   "metadata": {},
   "outputs": [
    {
     "name": "stdout",
     "output_type": "stream",
     "text": [
      "[[50 34]\n",
      " [34 65]]\n",
      "[[ 7  8]\n",
      " [23 12]]\n",
      "[[ 3 76  3]\n",
      " [ 6 54  6]\n",
      " [ 8  5  8]]\n"
     ]
    }
   ],
   "source": [
    "m1 = samp_matrix[:2,2:4]\n",
    "m2 = samp_matrix[3:,:2]\n",
    "m3 = samp_matrix[2:,2:]\n",
    "print(m1)\n",
    "print(m2)\n",
    "print(m3)"
   ]
  },
  {
   "cell_type": "markdown",
   "metadata": {},
   "source": [
    "#### 14. Reshape all the three matrix segmented in the above task in to three  1-dimensional vector."
   ]
  },
  {
   "cell_type": "code",
   "execution_count": 17,
   "metadata": {},
   "outputs": [
    {
     "name": "stdout",
     "output_type": "stream",
     "text": [
      "[50 34 34 65]\n",
      "[ 7  8 23 12]\n",
      "[ 3 76  3  6 54  6  8  5  8]\n"
     ]
    }
   ],
   "source": [
    "print(m1.reshape(4,))\n",
    "print(m2.reshape(4,))\n",
    "print(m3.reshape(9,))"
   ]
  },
  {
   "cell_type": "markdown",
   "metadata": {},
   "source": [
    "#### 15. Concatenate the matrix m1 and m2 in both vertical and horizontal direction"
   ]
  },
  {
   "cell_type": "code",
   "execution_count": 18,
   "metadata": {},
   "outputs": [
    {
     "name": "stdout",
     "output_type": "stream",
     "text": [
      "Concatenation in vertical direction\n",
      "[[50 34]\n",
      " [34 65]\n",
      " [ 7  8]\n",
      " [23 12]]\n",
      "\n",
      "Concatenation in horizontal direction\n",
      "[[50 34  7  8]\n",
      " [34 65 23 12]]\n"
     ]
    }
   ],
   "source": [
    "print('Concatenation in vertical direction')\n",
    "print(np.concatenate((m1,m2),axis=0))\n",
    "print('\\nConcatenation in horizontal direction')\n",
    "print(np.concatenate((m1,m2),axis=1))"
   ]
  },
  {
   "cell_type": "markdown",
   "metadata": {},
   "source": [
    "#### 16. Add, Subtract, multiply, divide the matrixes m1 and m2"
   ]
  },
  {
   "cell_type": "code",
   "execution_count": 19,
   "metadata": {},
   "outputs": [
    {
     "name": "stdout",
     "output_type": "stream",
     "text": [
      "Add m1 and m2\n",
      "[[57 42]\n",
      " [57 77]]\n",
      "\n",
      "Subtract m2 from m1\n",
      "[[43 26]\n",
      " [11 53]]\n",
      "\n",
      "Multiply m1 by m2\n",
      "[[350 272]\n",
      " [782 780]]\n",
      "\n",
      "Divide m1 by m2\n",
      "[[7.14285714 4.25      ]\n",
      " [1.47826087 5.41666667]]\n"
     ]
    }
   ],
   "source": [
    "print('Add m1 and m2')\n",
    "print(m1 + m2)\n",
    "print('\\nSubtract m2 from m1')\n",
    "print(m1 - m2)\n",
    "print('\\nMultiply m1 by m2')\n",
    "print(m1 * m2)\n",
    "print('\\nDivide m1 by m2')\n",
    "print(m1 / m2)"
   ]
  },
  {
   "cell_type": "markdown",
   "metadata": {},
   "source": [
    "#### 17. Add the m1 with m3 by removing the first row and last column of m3"
   ]
  },
  {
   "cell_type": "code",
   "execution_count": 20,
   "metadata": {},
   "outputs": [
    {
     "data": {
      "text/plain": [
       "array([[56, 88],\n",
       "       [42, 70]])"
      ]
     },
     "execution_count": 20,
     "metadata": {},
     "output_type": "execute_result"
    }
   ],
   "source": [
    "m1 + m3[1:,:2]"
   ]
  },
  {
   "cell_type": "markdown",
   "metadata": {},
   "source": [
    "#### 18. Form the matrix m4 by concatenating (as a new row) the vector [me1, me2] with the matrix m1, where me1 and me2 are the mean values of each column on m1."
   ]
  },
  {
   "cell_type": "code",
   "execution_count": 21,
   "metadata": {},
   "outputs": [
    {
     "name": "stdout",
     "output_type": "stream",
     "text": [
      "[[50.  34. ]\n",
      " [34.  65. ]\n",
      " [42.  49.5]]\n"
     ]
    }
   ],
   "source": [
    "# Finding mean values of each column of m1\n",
    "me1 = m1[:,0].mean()\n",
    "me2 = m1[:,1].mean()\n",
    "\n",
    "# Creating a vector and reshaping\n",
    "temp_mat = np.array([me1,me2])\n",
    "temp_mat = temp_mat.reshape(1,2)\n",
    "\n",
    "# Concatenating\n",
    "m4 = np.concatenate((m1,temp_mat),axis=0)\n",
    "print(m4)"
   ]
  },
  {
   "cell_type": "markdown",
   "metadata": {},
   "source": [
    "#### 19. Perform the matrix multiplication between m3 and m4"
   ]
  },
  {
   "cell_type": "code",
   "execution_count": 22,
   "metadata": {},
   "outputs": [
    {
     "name": "stdout",
     "output_type": "stream",
     "text": [
      "[[ 3 76  3]\n",
      " [ 6 54  6]\n",
      " [ 8  5  8]]\n",
      "\n",
      "[[50.  34. ]\n",
      " [34.  65. ]\n",
      " [42.  49.5]]\n",
      "\n",
      "Matrix Multiplication\n",
      "[[2860.  5190.5]\n",
      " [2388.  4011. ]\n",
      " [ 906.   993. ]]\n"
     ]
    }
   ],
   "source": [
    "print(m3)\n",
    "print()\n",
    "print(m4)\n",
    "print('\\nMatrix Multiplication')\n",
    "print(np.matmul(m3,m4))"
   ]
  },
  {
   "cell_type": "markdown",
   "metadata": {},
   "source": [
    "#### 20. Compute the maximum and minimum value of mean, variance, standard deviation for each row of matrix created in question number 8."
   ]
  },
  {
   "cell_type": "code",
   "execution_count": 23,
   "metadata": {},
   "outputs": [
    {
     "name": "stdout",
     "output_type": "stream",
     "text": [
      "[[ 9 25 50 34 45]\n",
      " [ 3 34 34 65  2]\n",
      " [ 5  7  3 76  3]\n",
      " [ 7  8  6 54  6]\n",
      " [23 12  8  5  8]]\n",
      "\n",
      "Minimum of mean\n",
      "11.2\n",
      "Maximum of mean\n",
      "32.6\n",
      "Minimum of variance\n",
      "39.760000000000005\n",
      "Maximum of variance\n",
      "820.1600000000001\n",
      "Minimum of standard deviation\n",
      "6.305553108173779\n",
      "Maximum of standard deviation\n",
      "28.63843571147\n"
     ]
    }
   ],
   "source": [
    "print(samp_matrix)\n",
    "print('\\nMinimum of mean')\n",
    "print(samp_matrix.mean(axis=1).min())\n",
    "print('Maximum of mean')\n",
    "print(samp_matrix.mean(axis=1).max())\n",
    "print('Minimum of variance')\n",
    "print(samp_matrix.var(axis=1).min())\n",
    "print('Maximum of variance')\n",
    "print(samp_matrix.var(axis=1).max())\n",
    "print('Minimum of standard deviation')\n",
    "print(samp_matrix.std(axis=1).min())\n",
    "print('Maximum of standard deviation')\n",
    "print(samp_matrix.std(axis=1).max())"
   ]
  },
  {
   "cell_type": "markdown",
   "metadata": {},
   "source": [
    "#### 21. Compute the average and strike rate for each player and sort it decending way (seperately for avg and strike rate)\n",
    "<img src = 'crick1.png'>"
   ]
  },
  {
   "cell_type": "code",
   "execution_count": 26,
   "metadata": {},
   "outputs": [
    {
     "name": "stdout",
     "output_type": "stream",
     "text": [
      "Average Runs and Strike Rate\n",
      "[[ 54.    60.    10.    65.    47.25  98.44]\n",
      " [102.     2.    78.    32.    53.5  101.42]\n",
      " [  3.   110.     1.    92.    51.5   94.93]\n",
      " [ 56.     6.    12.    42.    29.   161.11]\n",
      " [ 12.     8.    22.    11.    13.25  49.53]]\n",
      "\n",
      "Average Runs sorted in Descending order\n",
      "[[102.     2.    78.    32.    53.5  101.42]\n",
      " [  3.   110.     1.    92.    51.5   94.93]\n",
      " [ 54.    60.    10.    65.    47.25  98.44]\n",
      " [ 56.     6.    12.    42.    29.   161.11]\n",
      " [ 12.     8.    22.    11.    13.25  49.53]]\n",
      "\n",
      "Strike Rate sorted in Descending order\n",
      "[[ 56.     6.    12.    42.    29.   161.11]\n",
      " [102.     2.    78.    32.    53.5  101.42]\n",
      " [ 54.    60.    10.    65.    47.25  98.44]\n",
      " [  3.   110.     1.    92.    51.5   94.93]\n",
      " [ 12.     8.    22.    11.    13.25  49.53]]\n"
     ]
    }
   ],
   "source": [
    "runs_scored = np.array([[54,60,10,65],[102,2,78,32],[3,110,1,92],[56,6,12,42],[12,8,22,11]])\n",
    "balls_faced = np.array([[50,42,22,78],[95,8,65,43],[9,100,7,101],[27,3,11,31],[24,20,36,27]])\n",
    "\n",
    "avg_runs = runs_scored.mean(axis=1).reshape(5,1)\n",
    "\n",
    "tot_runs = runs_scored.sum(axis=1).reshape(5,1)\n",
    "tot_balls = balls_faced.sum(axis=1).reshape(5,1)\n",
    "strike_rate = np.round(tot_runs/tot_balls * 100,decimals=2)\n",
    "\n",
    "avg_runs_and_strike_rate = np.concatenate((runs_scored,avg_runs,strike_rate),axis=1)\n",
    "\n",
    "print('Average Runs and Strike Rate')\n",
    "print(avg_runs_and_strike_rate)\n",
    "print()\n",
    "\n",
    "sorted_desc_avg_runs = np.concatenate((runs_scored,avg_runs,strike_rate),axis=1)\n",
    "sorted_desc_avg_runs = sorted_desc_avg_runs[sorted_desc_avg_runs[:,4].argsort()[::-1]]\n",
    "\n",
    "print('Average Runs sorted in Descending order')\n",
    "print(sorted_desc_avg_runs)\n",
    "print()\n",
    "\n",
    "sorted_desc_strikerate = np.concatenate((runs_scored,avg_runs,strike_rate),axis=1)\n",
    "sorted_desc_strikerate = sorted_desc_strikerate[sorted_desc_strikerate[:,5].argsort()[::-1]]\n",
    "print('Strike Rate sorted in Descending order')\n",
    "print(sorted_desc_strikerate)"
   ]
  },
  {
   "cell_type": "markdown",
   "metadata": {},
   "source": [
    "#### 22. The students mark was recorded in a numpy array: marks = np.array([65,84,47,56,89,98,48,77,80,39]).  Cutoff for pass is 50 marks. Write the logic to print the number of students passed and failed. "
   ]
  },
  {
   "cell_type": "code",
   "execution_count": 27,
   "metadata": {},
   "outputs": [
    {
     "name": "stdout",
     "output_type": "stream",
     "text": [
      "Number of students passed : 7\n",
      "Number of students failed : 3\n"
     ]
    }
   ],
   "source": [
    "marks = np.array([65,84,47,56,89,98,48,77,80,39])\n",
    "\n",
    "count_failed = (marks < 50).sum()\n",
    "count_passed = (marks >= 50).sum()\n",
    "\n",
    "print('Number of students passed :',count_passed)\n",
    "print('Number of students failed :',count_failed)"
   ]
  },
  {
   "cell_type": "markdown",
   "metadata": {},
   "source": [
    "#### 23. The class incharge decided to give a mercy mark of 5 for those who scored between 45 and 49. Also the bonus of 5 marks awarded to the students who scored more than 80. Print all the student marks and compute the increase in the pass percentage of class. Any score more than 100 must be recorded as only 100."
   ]
  },
  {
   "cell_type": "code",
   "execution_count": 28,
   "metadata": {},
   "outputs": [
    {
     "name": "stdout",
     "output_type": "stream",
     "text": [
      "Marks:  [ 65  89  52  56  94 100  53  77  80  39]\n",
      "Change in pass percentage:  28.57\n"
     ]
    }
   ],
   "source": [
    "marks_new = marks.copy()\n",
    "\n",
    "for i in range(len(marks_new)):\n",
    "    if (marks_new[i] >= 45 and marks_new[i] <= 49) or (marks_new[i] > 80):\n",
    "        marks_new[i] += 5\n",
    "        if marks_new[i] > 100:\n",
    "            marks_new[i] = 100\n",
    "            \n",
    "print('Marks: ',marks_new)\n",
    "\n",
    "count_failed_new = (marks_new < 50).sum()\n",
    "count_passed_new = (marks_new >= 50).sum()\n",
    "\n",
    "orig_pass_percent = (count_passed / len(marks)) * 100\n",
    "new_pass_percent = (count_passed_new / len(marks_new)) * 100\n",
    "percent_change = np.round(((new_pass_percent - orig_pass_percent) / orig_pass_percent) * 100, decimals=2)\n",
    "\n",
    "print('Change in pass percentage: ', percent_change)\n"
   ]
  },
  {
   "cell_type": "markdown",
   "metadata": {},
   "source": [
    "#### 24. Print the time taken for performing the following operation using list and numpy array\n",
    "####       (x(i)^2 +8) / y(i),   where x and y are real integers from 1 to 60000"
   ]
  },
  {
   "cell_type": "code",
   "execution_count": 29,
   "metadata": {},
   "outputs": [
    {
     "name": "stdout",
     "output_type": "stream",
     "text": [
      "Time taken for list operation in seconds: 0.024159669876098633\n",
      "Time taken for array operation in seconds: 0.0013303756713867188\n"
     ]
    }
   ],
   "source": [
    "import time\n",
    "\n",
    "list1 = list(range(1,60001))\n",
    "list2 = list(range(1,60001))\n",
    "array1 = np.arange(1,60001)\n",
    "array2 = np.arange(1,60001)\n",
    "\n",
    "time_bf_list_operation = time.time()\n",
    "\n",
    "list_op = [(x**2+8)/y for x,y in zip(list1,list2)]\n",
    "\n",
    "time_af_list_operation = time.time()\n",
    "\n",
    "print('Time taken for list operation in seconds:', time_af_list_operation - time_bf_list_operation)\n",
    "\n",
    "time_bf_array_operation = time.time()\n",
    "\n",
    "array_op = (array1**2+8)/array2\n",
    "\n",
    "time_af_array_operation = time.time()\n",
    "\n",
    "print('Time taken for array operation in seconds:', time_af_array_operation - time_bf_array_operation)\n"
   ]
  },
  {
   "cell_type": "markdown",
   "metadata": {},
   "source": [
    "#### 25. Create a Github account and upload your solution with the short write-up on Numpy"
   ]
  },
  {
   "cell_type": "markdown",
   "metadata": {},
   "source": [
    "#### Solution\n",
    "\n",
    "https://github.com/mkanchanag/NumPy-Assignment"
   ]
  }
 ],
 "metadata": {
  "kernelspec": {
   "display_name": "Python 3",
   "language": "python",
   "name": "python3"
  },
  "language_info": {
   "codemirror_mode": {
    "name": "ipython",
    "version": 3
   },
   "file_extension": ".py",
   "mimetype": "text/x-python",
   "name": "python",
   "nbconvert_exporter": "python",
   "pygments_lexer": "ipython3",
   "version": "3.8.5"
  }
 },
 "nbformat": 4,
 "nbformat_minor": 2
}
